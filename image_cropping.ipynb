{
 "cells": [
  {
   "cell_type": "code",
   "execution_count": 1,
   "metadata": {},
   "outputs": [],
   "source": [
    "import pandas as pd\n",
    "import numpy as np\n",
    "import matplotlib.pyplot as plt\n",
    "from sklearn.model_selection import StratifiedShuffleSplit\n",
    "from sklearn.preprocessing import LabelEncoder\n",
    "from sklearn.impute import SimpleImputer\n",
    "\n",
    "# Loading Dataset\n",
    "meta_data = pd.read_csv(\"HAM10000_metadata.csv\")\n",
    "\n",
    "# Getting Labels\n",
    "# all_labels = meta_data['dx']\n",
    "labels = meta_data['dx'].isin(['bcc', 'mel', 'akiec'])\n",
    "meta_attributes = meta_data[[\"dx\", \"dx_type\", \"age\", \"sex\", \"localization\"]]\n",
    "\n",
    "# removing missing values\n",
    "imputer = SimpleImputer(strategy='most_frequent')\n",
    "for col in meta_attributes.columns:\n",
    "    # print(f\"{col=}\")\n",
    "    meta_attributes.loc[:, col] = imputer.fit_transform(\n",
    "        meta_attributes[[col]]).ravel()\n"
   ]
  },
  {
   "cell_type": "code",
   "execution_count": 38,
   "metadata": {},
   "outputs": [
    {
     "name": "stdout",
     "output_type": "stream",
     "text": [
      "Initial Threshold: 50\n",
      "Final Threshold: 110\n"
     ]
    }
   ],
   "source": [
    "import cv2\n",
    "import numpy as np\n",
    "\n",
    "def find_and_crop_mole(image_path, threshold):\n",
    "    global mole_region\n",
    "    global original_image\n",
    "    global cropped_mole\n",
    "    global gray_image\n",
    "    global blurred_image\n",
    "\n",
    "    original_image = cv2.imread(image_path)\n",
    "\n",
    "    # grayscale\n",
    "    gray_image = cv2.cvtColor(original_image, cv2.COLOR_BGR2GRAY)\n",
    "\n",
    "    # Gaussian blur\n",
    "    blurred_image = cv2.GaussianBlur(gray_image, (1, 1), 0)\n",
    "\n",
    "    _, binary_image = cv2.threshold(\n",
    "        blurred_image, threshold, 255, cv2.THRESH_BINARY)\n",
    "\n",
    "    contours, _ = cv2.findContours(\n",
    "        binary_image, cv2.RETR_EXTERNAL, cv2.CHAIN_APPROX_SIMPLE)\n",
    "\n",
    "    # with the largest contour\n",
    "    area = 0\n",
    "    if contours:\n",
    "        largest_contour = max(contours, key=cv2.contourArea)\n",
    "        area = len(largest_contour)\n",
    "        # print(f\"{area=}\")\n",
    "        # mask for the mole\n",
    "        mask = np.zeros_like(original_image)\n",
    "        cv2.drawContours(mask, [largest_contour], 0,\n",
    "                         (255, 255, 255), thickness=cv2.FILLED)\n",
    "\n",
    "        mole_region = cv2.bitwise_and(original_image, mask)\n",
    "\n",
    "        x, y, w, h = cv2.boundingRect(largest_contour)\n",
    "        # print(f\"{x, y, w, h=}\")\n",
    "\n",
    "        cropped_mole = original_image[y:y+h, x:x+w]\n",
    "        \n",
    "        # cv2.imwrite(\"cropped_mole.jpg\", cropped_mole)\n",
    "    else:\n",
    "        print(\"No mole found in the image.\")\n",
    "    return area\n",
    "\n",
    "threshold = 50\n",
    "print(f\"Initial Threshold: {threshold}\")\n",
    "while (find_and_crop_mole(\"HAM10000_images_part_1\\ISIC_0024306.jpg\", threshold) < 1000):\n",
    "    threshold += 1\n",
    "    # cv2.imshow(\"Mole Region\", mole_region)\n",
    "    # cv2.waitKey(0)\n",
    "    # cv2.destroyAllWindows()\n",
    "    cv2.imwrite(f\"tmp/cropped_mole_{threshold}.jpg\", mole_region)\n",
    "print(f\"Final Threshold: {threshold}\")\n",
    "cv2.imwrite(f\"tmp/cropped_mole_{threshold}.jpg\", mole_region)\n",
    "\n",
    "\n",
    "\n",
    "cv2.imshow(\"Original Image\", original_image)\n",
    "# cv2.imshow(\"Gray Image\", gray_image)\n",
    "# cv2.imshow(\"Blurred Image\", blurred_image)\n",
    "cv2.imshow(\"Mole Region\", mole_region)\n",
    "cv2.imshow(\"Cropped Image (Not Working Properly)\", cropped_mole)\n",
    "cv2.waitKey(0)\n",
    "cv2.destroyAllWindows()\n"
   ]
  }
 ],
 "metadata": {
  "kernelspec": {
   "display_name": "Python 3",
   "language": "python",
   "name": "python3"
  },
  "language_info": {
   "codemirror_mode": {
    "name": "ipython",
    "version": 3
   },
   "file_extension": ".py",
   "mimetype": "text/x-python",
   "name": "python",
   "nbconvert_exporter": "python",
   "pygments_lexer": "ipython3",
   "version": "3.11.1"
  }
 },
 "nbformat": 4,
 "nbformat_minor": 2
}
