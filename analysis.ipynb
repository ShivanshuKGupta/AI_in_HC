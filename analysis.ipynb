{
 "cells": [
  {
   "cell_type": "markdown",
   "metadata": {},
   "source": [
    "# Analysis"
   ]
  },
  {
   "cell_type": "code",
   "execution_count": null,
   "metadata": {},
   "outputs": [],
   "source": [
    "import pandas as pd\n",
    "import numpy as np\n",
    "import matplotlib.pyplot as plt\n",
    "from sklearn.model_selection import StratifiedShuffleSplit\n",
    "from sklearn.preprocessing import LabelEncoder\n",
    "from sklearn.impute import SimpleImputer\n",
    "\n",
    "# Loading Dataset\n",
    "meta_data = pd.read_csv(\"HAM10000_metadata.csv\")\n",
    "\n",
    "# Getting Labels\n",
    "# all_labels = meta_data['dx']\n",
    "labels = meta_data['dx'].isin(['bcc', 'mel', 'akiec'])\n",
    "meta_attributes = meta_data[[\"dx_type\", \"age\", \"sex\", \"localization\"]]\n",
    "\n",
    "# missing value remove\n",
    "imputer = SimpleImputer(strategy='most_frequent')\n",
    "for col in meta_attributes.columns:\n",
    "    print(f\"{col=}\")\n",
    "    meta_attributes[col] = imputer.fit_transform(meta_attributes[[col]]).ravel()\n",
    "\n",
    "# categorical_columns = meta_attributes.select_dtypes(include=['object']).columns\n",
    "# print(f\"{categorical_columns=}\")\n",
    "# # label_encoders = {}\n",
    "# for col in categorical_columns:\n",
    "#     le = LabelEncoder()\n",
    "#     meta_attributes[col] = le.fit_transform(meta_attributes.loc[:,col])\n",
    "#     # label_encoders[col] = le\n",
    "\n",
    "# print(f\"{meta_attributes=}\")\n",
    "# image_name = meta_data['image_id']\n",
    "\n",
    "# df_without_label = df.drop(columns=['label'])\n",
    "# print(f\"{df_without_label=}\")\n",
    "# df_with_meta = pd.concat([df_without_label, meta_attributes], axis=1)\n",
    "# print(f\"{df_with_meta=}\")\n",
    "# pixel_columns = df_without_label.columns\n",
    "\n",
    "# cancer_count = sum(labels == True)\n",
    "# noncancer_count = sum(labels == False)\n",
    "# print(\"Cancer Instances:\", cancer_count)\n",
    "# print(\"Non-Cancer Instances:\", noncancer_count)\n",
    "# df"
   ]
  }
 ],
 "metadata": {
  "language_info": {
   "name": "python"
  }
 },
 "nbformat": 4,
 "nbformat_minor": 2
}
